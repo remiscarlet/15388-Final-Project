{
 "cells": [
  {
   "cell_type": "code",
   "execution_count": 20,
   "metadata": {
    "collapsed": false
   },
   "outputs": [],
   "source": [
    "from PIL import Image\n",
    "import numpy as np\n",
    "\n",
    "def data_to_vgg_input(data):\n",
    "    if data.mode != \"RGB\":\n",
    "        data = data.convert(mode=\"RGB\")\n",
    "    \n",
    "    return np.rollaxis(np.asarray(data),2)\n",
    "\n",
    "def fname_to_vgg_input(fname):\n",
    "    \"\"\" Creates the input for a VGG network from the filename \n",
    "        Args: \n",
    "            fname (string) : the filename to be parsed\n",
    "        Returns: \n",
    "            (numpy ndarray) : the array to be passed into the VGG network as a single example\n",
    "    \"\"\"\n",
    "    im = Image.open(fname)\n",
    "    return data_to_vgg_input(im)\n"
   ]
  },
  {
   "cell_type": "code",
   "execution_count": 2,
   "metadata": {
    "collapsed": false
   },
   "outputs": [
    {
     "name": "stderr",
     "output_type": "stream",
     "text": [
      "Using Theano backend.\n"
     ]
    },
    {
     "name": "stdout",
     "output_type": "stream",
     "text": [
      "<keras.models.Sequential object at 0x117e76550>\n"
     ]
    }
   ],
   "source": [
    "import keras\n",
    "from keras.models import Sequential\n",
    "from keras.layers.core import Flatten, Dense, Dropout\n",
    "from keras.layers.convolutional import Convolution2D, MaxPooling2D, ZeroPadding2D\n",
    "from keras.optimizers import SGD\n",
    "\n",
    "def VGG_16(weights_path=None):\n",
    "    model = Sequential()\n",
    "    model.add(ZeroPadding2D((1,1),input_shape=(3,224,224)))\n",
    "    model.add(Convolution2D(64, 3, 3, activation='relu'))\n",
    "    model.add(ZeroPadding2D((1,1)))\n",
    "    model.add(Convolution2D(64, 3, 3, activation='relu'))\n",
    "    model.add(MaxPooling2D((2,2), strides=(2,2)))\n",
    "\n",
    "    model.add(ZeroPadding2D((1,1)))\n",
    "    model.add(Convolution2D(128, 3, 3, activation='relu'))\n",
    "    model.add(ZeroPadding2D((1,1)))\n",
    "    model.add(Convolution2D(128, 3, 3, activation='relu'))\n",
    "    model.add(MaxPooling2D((2,2), strides=(2,2)))\n",
    "\n",
    "    model.add(ZeroPadding2D((1,1)))\n",
    "    model.add(Convolution2D(256, 3, 3, activation='relu'))\n",
    "    model.add(ZeroPadding2D((1,1)))\n",
    "    model.add(Convolution2D(256, 3, 3, activation='relu'))\n",
    "    model.add(ZeroPadding2D((1,1)))\n",
    "    model.add(Convolution2D(256, 3, 3, activation='relu'))\n",
    "    model.add(MaxPooling2D((2,2), strides=(2,2)))\n",
    "\n",
    "    model.add(ZeroPadding2D((1,1)))\n",
    "    model.add(Convolution2D(512, 3, 3, activation='relu'))\n",
    "    model.add(ZeroPadding2D((1,1)))\n",
    "    model.add(Convolution2D(512, 3, 3, activation='relu'))\n",
    "    model.add(ZeroPadding2D((1,1)))\n",
    "    model.add(Convolution2D(512, 3, 3, activation='relu'))\n",
    "    model.add(MaxPooling2D((2,2), strides=(2,2)))\n",
    "\n",
    "    model.add(ZeroPadding2D((1,1)))\n",
    "    model.add(Convolution2D(512, 3, 3, activation='relu'))\n",
    "    model.add(ZeroPadding2D((1,1)))\n",
    "    model.add(Convolution2D(512, 3, 3, activation='relu'))\n",
    "    model.add(ZeroPadding2D((1,1)))\n",
    "    model.add(Convolution2D(512, 3, 3, activation='relu'))\n",
    "    model.add(MaxPooling2D((2,2), strides=(2,2)))\n",
    "\n",
    "    model.add(Flatten())\n",
    "    model.add(Dense(4096, activation='relu'))\n",
    "    model.add(Dropout(0.5))\n",
    "    model.add(Dense(4096, activation='relu'))\n",
    "    model.add(Dropout(0.5))\n",
    "    model.add(Dense(1000, activation='softmax'))\n",
    "\n",
    "    if weights_path:\n",
    "        model.load_weights(weights_path)\n",
    "        \n",
    "    for i in xrange(5):\n",
    "        model.pop()\n",
    "\n",
    "    model2 = Sequential()\n",
    "    model2.add(ZeroPadding2D((1,1),input_shape=(3,75,75)))\n",
    "    model2.add(Convolution2D(64, 3, 3, activation='relu'))\n",
    "    model2.add(ZeroPadding2D((1,1)))\n",
    "    model2.add(Convolution2D(64, 3, 3, activation='relu'))\n",
    "    model2.add(MaxPooling2D((2,2), strides=(2,2)))\n",
    "\n",
    "    model2.add(ZeroPadding2D((1,1)))\n",
    "    model2.add(Convolution2D(128, 3, 3, activation='relu'))\n",
    "    model2.add(ZeroPadding2D((1,1)))\n",
    "    model2.add(Convolution2D(128, 3, 3, activation='relu'))\n",
    "    model2.add(MaxPooling2D((2,2), strides=(2,2)))\n",
    "\n",
    "    model2.add(ZeroPadding2D((1,1)))\n",
    "    model2.add(Convolution2D(256, 3, 3, activation='relu'))\n",
    "    model2.add(ZeroPadding2D((1,1)))\n",
    "    model2.add(Convolution2D(256, 3, 3, activation='relu'))\n",
    "    model2.add(ZeroPadding2D((1,1)))\n",
    "    model2.add(Convolution2D(256, 3, 3, activation='relu'))\n",
    "    model2.add(MaxPooling2D((2,2), strides=(2,2)))\n",
    "\n",
    "    model2.add(ZeroPadding2D((1,1)))\n",
    "    model2.add(Convolution2D(512, 3, 3, activation='relu'))\n",
    "    model2.add(ZeroPadding2D((1,1)))\n",
    "    model2.add(Convolution2D(512, 3, 3, activation='relu'))\n",
    "    model2.add(ZeroPadding2D((1,1)))\n",
    "    model2.add(Convolution2D(512, 3, 3, activation='relu'))\n",
    "    model2.add(MaxPooling2D((2,2), strides=(2,2)))\n",
    "\n",
    "    model2.add(ZeroPadding2D((1,1)))\n",
    "    model2.add(Convolution2D(512, 3, 3, activation='relu'))\n",
    "    model2.add(ZeroPadding2D((1,1)))\n",
    "    model2.add(Convolution2D(512, 3, 3, activation='relu'))\n",
    "    model2.add(ZeroPadding2D((1,1)))\n",
    "    model2.add(Convolution2D(512, 3, 3, activation='relu'))\n",
    "    model2.add(MaxPooling2D((2,2), strides=(2,2)))\n",
    "\n",
    "    model2.add(Flatten())\n",
    "        \n",
    "    weights = model.get_weights()\n",
    "    #print weights\n",
    "    model2.set_weights(weights)\n",
    "        \n",
    "    return model2\n",
    "    \n",
    "# AUTOLAB_IGNORE_START\n",
    "truncated_vgg = VGG_16(\"vgg16_weights.h5\")\n",
    "print truncated_vgg\n",
    "\n",
    "# AUTOLAB_IGNORE_STOP"
   ]
  },
  {
   "cell_type": "code",
   "execution_count": 106,
   "metadata": {
    "collapsed": false
   },
   "outputs": [],
   "source": [
    "import os\n",
    "import copy\n",
    "\n",
    "females = map(lambda path: \"female_cropped_normalized/\"+path, os.listdir(\"female_cropped_normalized\"))\n",
    "males = map(lambda path: \"male_cropped_normalized/\"+path, os.listdir(\"male_cropped_normalized\"))\n",
    "files = copy.copy(females)\n",
    "files.extend(males)\n",
    "files = filter(lambda path: path.find(\"jpg\") > -1, files)\n"
   ]
  },
  {
   "cell_type": "code",
   "execution_count": 107,
   "metadata": {
    "collapsed": false
   },
   "outputs": [],
   "source": [
    "def fnames_to_features(fnames, vgg):\n",
    "    vgg.compile(optimizer=\"adam\", loss='categorical_crossentropy')\n",
    "    vgg_input = map(lambda fname: fname_to_vgg_input(fname), fnames)\n",
    "    return vgg.predict(np.asarray(vgg_input))\n",
    "\n",
    "inp = files\n",
    "\n",
    "thing2 = fnames_to_features(inp, truncated_vgg)\n",
    "\n",
    "np.savetxt(\"features_yearbook.txt\", thing2)\n",
    "labels = map(lambda path: path.find(\"female\")> -1, inp)\n",
    "np.savetxt(\"labels_yearbook.txt\", np.asarray(labels))\n",
    "    "
   ]
  },
  {
   "cell_type": "code",
   "execution_count": 3,
   "metadata": {
    "collapsed": false
   },
   "outputs": [],
   "source": [
    "features = np.loadtxt(\"features_yearbook.txt\")\n",
    "labels = np.loadtxt(\"labels_yearbook.txt\", dtype=float).astype(int)"
   ]
  },
  {
   "cell_type": "code",
   "execution_count": 3,
   "metadata": {
    "collapsed": true
   },
   "outputs": [],
   "source": [
    "import time\n",
    "\n",
    "def make_model(X, y):\n",
    "    from sklearn.linear_model import SGDClassifier\n",
    "    clf = SGDClassifier(loss=\"log\", penalty=\"l1\")\n",
    "    clf.fit(X, y)\n",
    "    return clf\n",
    "\n",
    "def predict_from_features(X, y, X_te):\n",
    "    from sklearn.linear_model import SGDClassifier\n",
    "    clf = SGDClassifier(loss=\"log\", penalty=\"l1\")\n",
    "    clf.fit(X, y)\n",
    "    return clf.predict(X_te)"
   ]
  },
  {
   "cell_type": "code",
   "execution_count": 4,
   "metadata": {
    "collapsed": false
   },
   "outputs": [
    {
     "name": "stdout",
     "output_type": "stream",
     "text": [
      "After 100 runs, average acc was 0.880951949229 with average time being 0.26087900877\n"
     ]
    }
   ],
   "source": [
    "perm = np.random.permutation(len(labels))\n",
    "perm = perm\n",
    "numberToTrainOn = int(len(perm)*0.8)\n",
    "X_tr = features[perm[:numberToTrainOn]]\n",
    "y_tr = labels[perm[:numberToTrainOn]]\n",
    "X_va = features[perm[numberToTrainOn:]]\n",
    "y_va = labels[perm[numberToTrainOn:]]\n",
    "runs = []\n",
    "\n",
    "numIters = 100\n",
    "\n",
    "for i in xrange(numIters):\n",
    "    start = time.time()\n",
    "    classifier = make_model(X_tr, y_tr)\n",
    "    y_p = classifier.predict(X_va)\n",
    "    end = time.time()\n",
    "    \n",
    "    #print \"Validation accuracy: {} in {} seconds\".format(np.mean(y_p==y_va), end-start)\n",
    "    runs.append((np.mean(y_p==y_va), end-start))\n",
    "\n",
    "acc = reduce(lambda x,y:x+y, map(lambda z: z[0], runs))/len(runs)\n",
    "runtime = reduce(lambda x,y:x+y, map(lambda z: z[1], runs))/len(runs)\n",
    "print \"After {} runs, average acc was {} with average time being {}\".format(numIters, acc,runtime)\n"
   ]
  },
  {
   "cell_type": "code",
   "execution_count": 4,
   "metadata": {
    "collapsed": true
   },
   "outputs": [],
   "source": [
    "features_yrbk = np.loadtxt(\"features_yearbook.txt\")\n",
    "labels_yrbk = np.loadtxt(\"labels_yearbook.txt\", dtype=float).astype(int)\n",
    "features_owndata = np.loadtxt(\"features.txt\")\n",
    "labels_owndata = np.loadtxt(\"labels.txt\", dtype=float).astype(int)"
   ]
  },
  {
   "cell_type": "code",
   "execution_count": 26,
   "metadata": {
    "collapsed": true
   },
   "outputs": [],
   "source": [
    "clf_yrbk = make_model(features_yrbk, labels_yrbk)\n",
    "clf_owndata = make_model(features_owndata, labels_owndata)\n",
    "\n",
    "vgg = truncated_vgg\n",
    "vgg.compile(optimizer=\"adam\", loss='categorical_crossentropy')\n",
    "\n"
   ]
  },
  {
   "cell_type": "code",
   "execution_count": null,
   "metadata": {
    "collapsed": true
   },
   "outputs": [],
   "source": [
    "#### from autocrop import *\n",
    "from resizeAndGrayscale import *\n",
    "import cv2\n",
    "\n",
    "from PIL import ImageDraw\n",
    "\n",
    "import matplotlib\n",
    "matplotlib.use(\"svg\")\n",
    "%matplotlib inline\n",
    "import matplotlib.pyplot as plt\n",
    "plt.style.use(\"ggplot\")\n",
    "import numpy as np\n",
    "\n",
    "def plot_image(im):\n",
    "    try:\n",
    "        plt.imshow(im, aspect='auto')\n",
    "    except:\n",
    "        plt.imshow(np.asarray(im[:,:]), aspect='auto')\n",
    "    \n",
    "def drawRectangle(drawer, coords, width):\n",
    "    \n",
    "\n",
    "def faceCrop(imPath,boxScale=1):\n",
    "    faceCascade = cv.Load('haarcascade_frontalface_alt.xml')\n",
    "    \n",
    "    classifier = clf_owndata\n",
    "    \n",
    "    im = Image.open(imPath)\n",
    "    \n",
    "    finalImage = Image.open(imPath)\n",
    "    \n",
    "    faces = []\n",
    "    cv_im=pil2cvGrey(im)\n",
    "    faces=DetectFace(cv_im,faceCascade)\n",
    "    #print faces\n",
    "    #plot_image(faces)\n",
    "    if faces:\n",
    "        n=1\n",
    "        drawer = ImageDraw.Draw(finalImage)\n",
    "\n",
    "        for face in faces:\n",
    "            faceData = imgCrop(im, face[0],boxScale=boxScale)\n",
    "            #plot_image(faceData)\n",
    "            normalized = crop_and_scale_image(faceData, isPath=False)\n",
    "            #print normalized\n",
    "            #plot_image(normalized)\n",
    "            vgg_input = np.array([data_to_vgg_input(normalized)])\n",
    "            prediction = classifier.predict(vgg.predict(vgg_input))\n",
    "            prediction = \"female\" if prediction>0 else \"male\"\n",
    "            print prediction\n",
    "            plot_image(faceData)\n",
    "            ((x,y,w,h),n) = face\n",
    "            pt1 = (int(x), int(y))\n",
    "            pt2 = (int(x + w), int(y + h)) \n",
    "            #cv.Rectangle(finalImage, pt1, pt2, cv.RGB(255, 0, 0), 5, 8, 0)\n",
    "            drawer.rectangle((pt1,pt2), outline=\"red\")\n",
    "        plot_image(finalImage)\n",
    "            \n",
    "            \n",
    "    else:       \n",
    "        print 'No faces found:', img\n",
    "\n",
    "testImage = \"testImages/testImage1.jpg\"\n",
    "\n",
    "faceCrop(testImage)\n"
   ]
  },
  {
   "cell_type": "code",
   "execution_count": null,
   "metadata": {
    "collapsed": true
   },
   "outputs": [],
   "source": []
  }
 ],
 "metadata": {
  "kernelspec": {
   "display_name": "Python 2",
   "language": "python",
   "name": "python2"
  },
  "language_info": {
   "codemirror_mode": {
    "name": "ipython",
    "version": 2
   },
   "file_extension": ".py",
   "mimetype": "text/x-python",
   "name": "python",
   "nbconvert_exporter": "python",
   "pygments_lexer": "ipython2",
   "version": "2.7.10"
  }
 },
 "nbformat": 4,
 "nbformat_minor": 1
}

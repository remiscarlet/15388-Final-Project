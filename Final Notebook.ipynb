{
 "cells": [
  {
   "cell_type": "code",
   "execution_count": 35,
   "metadata": {
    "collapsed": false
   },
   "outputs": [],
   "source": [
    "from PIL import Image\n",
    "import numpy as np\n",
    "\n",
    "\n",
    "def fname_to_vgg_input(fname):\n",
    "    \"\"\" Creates the input for a VGG network from the filename \n",
    "        Args: \n",
    "            fname (string) : the filename to be parsed\n",
    "        Returns: \n",
    "            (numpy ndarray) : the array to be passed into the VGG network as a single example\n",
    "    \"\"\"\n",
    "    im = Image.open(fname)\n",
    "    if im.mode != \"RGB\":\n",
    "        im = im.convert(mode=\"RGB\")\n",
    "    return np.rollaxis(np.asarray(im),2)\n",
    "\n",
    "\n",
    "thing = fname_to_vgg_input(\"female_cropped_normalized/30598825034_crop1_normalized.jpg\")\n"
   ]
  },
  {
   "cell_type": "code",
   "execution_count": 6,
   "metadata": {
    "collapsed": false
   },
   "outputs": [
    {
     "name": "stdout",
     "output_type": "stream",
     "text": [
      "<keras.models.Sequential object at 0x1168d0ad0>\n"
     ]
    }
   ],
   "source": [
    "import keras\n",
    "from keras.models import Sequential\n",
    "from keras.layers.core import Flatten, Dense, Dropout\n",
    "from keras.layers.convolutional import Convolution2D, MaxPooling2D, ZeroPadding2D\n",
    "from keras.optimizers import SGD\n",
    "\n",
    "def VGG_16(weights_path=None):\n",
    "    model = Sequential()\n",
    "    model.add(ZeroPadding2D((1,1),input_shape=(3,224,224)))\n",
    "    model.add(Convolution2D(64, 3, 3, activation='relu'))\n",
    "    model.add(ZeroPadding2D((1,1)))\n",
    "    model.add(Convolution2D(64, 3, 3, activation='relu'))\n",
    "    model.add(MaxPooling2D((2,2), strides=(2,2)))\n",
    "\n",
    "    model.add(ZeroPadding2D((1,1)))\n",
    "    model.add(Convolution2D(128, 3, 3, activation='relu'))\n",
    "    model.add(ZeroPadding2D((1,1)))\n",
    "    model.add(Convolution2D(128, 3, 3, activation='relu'))\n",
    "    model.add(MaxPooling2D((2,2), strides=(2,2)))\n",
    "\n",
    "    model.add(ZeroPadding2D((1,1)))\n",
    "    model.add(Convolution2D(256, 3, 3, activation='relu'))\n",
    "    model.add(ZeroPadding2D((1,1)))\n",
    "    model.add(Convolution2D(256, 3, 3, activation='relu'))\n",
    "    model.add(ZeroPadding2D((1,1)))\n",
    "    model.add(Convolution2D(256, 3, 3, activation='relu'))\n",
    "    model.add(MaxPooling2D((2,2), strides=(2,2)))\n",
    "\n",
    "    model.add(ZeroPadding2D((1,1)))\n",
    "    model.add(Convolution2D(512, 3, 3, activation='relu'))\n",
    "    model.add(ZeroPadding2D((1,1)))\n",
    "    model.add(Convolution2D(512, 3, 3, activation='relu'))\n",
    "    model.add(ZeroPadding2D((1,1)))\n",
    "    model.add(Convolution2D(512, 3, 3, activation='relu'))\n",
    "    model.add(MaxPooling2D((2,2), strides=(2,2)))\n",
    "\n",
    "    model.add(ZeroPadding2D((1,1)))\n",
    "    model.add(Convolution2D(512, 3, 3, activation='relu'))\n",
    "    model.add(ZeroPadding2D((1,1)))\n",
    "    model.add(Convolution2D(512, 3, 3, activation='relu'))\n",
    "    model.add(ZeroPadding2D((1,1)))\n",
    "    model.add(Convolution2D(512, 3, 3, activation='relu'))\n",
    "    model.add(MaxPooling2D((2,2), strides=(2,2)))\n",
    "\n",
    "    model.add(Flatten())\n",
    "    model.add(Dense(4096, activation='relu'))\n",
    "    model.add(Dropout(0.5))\n",
    "    model.add(Dense(4096, activation='relu'))\n",
    "    model.add(Dropout(0.5))\n",
    "    model.add(Dense(1000, activation='softmax'))\n",
    "\n",
    "    if weights_path:\n",
    "        model.load_weights(weights_path)\n",
    "        \n",
    "    for i in xrange(5):\n",
    "        model.pop()\n",
    "\n",
    "    model2 = Sequential()\n",
    "    model2.add(ZeroPadding2D((1,1),input_shape=(3,75,75)))\n",
    "    model2.add(Convolution2D(64, 3, 3, activation='relu'))\n",
    "    model2.add(ZeroPadding2D((1,1)))\n",
    "    model2.add(Convolution2D(64, 3, 3, activation='relu'))\n",
    "    model2.add(MaxPooling2D((2,2), strides=(2,2)))\n",
    "\n",
    "    model2.add(ZeroPadding2D((1,1)))\n",
    "    model2.add(Convolution2D(128, 3, 3, activation='relu'))\n",
    "    model2.add(ZeroPadding2D((1,1)))\n",
    "    model2.add(Convolution2D(128, 3, 3, activation='relu'))\n",
    "    model2.add(MaxPooling2D((2,2), strides=(2,2)))\n",
    "\n",
    "    model2.add(ZeroPadding2D((1,1)))\n",
    "    model2.add(Convolution2D(256, 3, 3, activation='relu'))\n",
    "    model2.add(ZeroPadding2D((1,1)))\n",
    "    model2.add(Convolution2D(256, 3, 3, activation='relu'))\n",
    "    model2.add(ZeroPadding2D((1,1)))\n",
    "    model2.add(Convolution2D(256, 3, 3, activation='relu'))\n",
    "    model2.add(MaxPooling2D((2,2), strides=(2,2)))\n",
    "\n",
    "    model2.add(ZeroPadding2D((1,1)))\n",
    "    model2.add(Convolution2D(512, 3, 3, activation='relu'))\n",
    "    model2.add(ZeroPadding2D((1,1)))\n",
    "    model2.add(Convolution2D(512, 3, 3, activation='relu'))\n",
    "    model2.add(ZeroPadding2D((1,1)))\n",
    "    model2.add(Convolution2D(512, 3, 3, activation='relu'))\n",
    "    model2.add(MaxPooling2D((2,2), strides=(2,2)))\n",
    "\n",
    "    model2.add(ZeroPadding2D((1,1)))\n",
    "    model2.add(Convolution2D(512, 3, 3, activation='relu'))\n",
    "    model2.add(ZeroPadding2D((1,1)))\n",
    "    model2.add(Convolution2D(512, 3, 3, activation='relu'))\n",
    "    model2.add(ZeroPadding2D((1,1)))\n",
    "    model2.add(Convolution2D(512, 3, 3, activation='relu'))\n",
    "    model2.add(MaxPooling2D((2,2), strides=(2,2)))\n",
    "\n",
    "    model2.add(Flatten())\n",
    "        \n",
    "    weights = model.get_weights()\n",
    "    #print weights\n",
    "    model2.set_weights(weights)\n",
    "        \n",
    "    return model2\n",
    "    \n",
    "# AUTOLAB_IGNORE_START\n",
    "truncated_vgg = VGG_16(\"vgg16_weights.h5\")\n",
    "print truncated_vgg\n",
    "# AUTOLAB_IGNORE_STOP"
   ]
  },
  {
   "cell_type": "code",
   "execution_count": 40,
   "metadata": {
    "collapsed": false
   },
   "outputs": [],
   "source": [
    "import os\n",
    "import copy\n",
    "\n",
    "females = map(lambda path: \"female_cropped_normalized/\"+path, os.listdir(\"female_cropped_normalized\"))\n",
    "males = map(lambda path: \"male_cropped_normalized/\"+path, os.listdir(\"male_cropped_normalized\"))\n",
    "files = copy.copy(females)\n",
    "files.extend(males)\n",
    "files = filter(lambda path: path.find(\"jpg\") > -1, files)\n",
    "\n"
   ]
  },
  {
   "cell_type": "code",
   "execution_count": 41,
   "metadata": {
    "collapsed": false
   },
   "outputs": [],
   "source": [
    "def fnames_to_features(fnames, vgg):\n",
    "    \"\"\" Given a list of filenames and a VGG16 model, generate the corresponding array of VGG features\n",
    "        Args: \n",
    "            fnames (list) : A list of filenames\n",
    "            vgg (keras model) : a pretrained VGG16 model\n",
    "        Returns: \n",
    "            (numpy ndarray) : a 2D array of features generated from the VGG model\n",
    "    \"\"\"\n",
    "    vgg.compile(optimizer=\"adam\", loss='categorical_crossentropy')\n",
    "    vgg_input = map(lambda fname: fname_to_vgg_input(fname), fnames)\n",
    "\n",
    "    return vgg.predict(np.array(vgg_input))\n",
    "\n",
    "inp = files\n",
    "\n",
    "thing2 = fnames_to_features(inp, truncated_vgg)\n",
    "\n",
    "np.savetxt(\"features.txt\", thing2)\n",
    "labels = map(lambda path: path.find(\"female\")> -1, inp)\n",
    "np.savetxt(\"labels.txt\", np.asarray(labels))\n",
    "    "
   ]
  },
  {
   "cell_type": "code",
   "execution_count": 48,
   "metadata": {
    "collapsed": false
   },
   "outputs": [],
   "source": [
    "features = np.loadtxt(\"features.txt\")\n",
    "labels = np.loadtxt(\"labels.txt\", dtype=float).astype(int)"
   ]
  },
  {
   "cell_type": "code",
   "execution_count": 54,
   "metadata": {
    "collapsed": false
   },
   "outputs": [
    {
     "name": "stdout",
     "output_type": "stream",
     "text": [
      "Validation accuracy: 0.836795252226 in 0.102756977081 seconds\n"
     ]
    }
   ],
   "source": [
    "import time\n",
    "\n",
    "def predict_from_features(X, y, X_te):\n",
    "    from sklearn.linear_model import SGDClassifier\n",
    "    clf = SGDClassifier(loss=\"log\", penalty=\"l1\")\n",
    "    clf.fit(X, y)\n",
    "    return clf.predict(X_te)\n",
    "\n",
    "perm = np.random.permutation(len(labels))\n",
    "\n",
    "numberToTrainOn = int(len(labels)*0.8)\n",
    "training_features = features[perm[:numberToTrainOn]]\n",
    "training_labels = labels[perm[:numberToTrainOn]]\n",
    "testing_features = features[perm[numberToTrainOn:]]\n",
    "testing_labels = labels[perm[numberToTrainOn:]]\n",
    "\n",
    "start = time.time()\n",
    "y_p = predict_from_features(training_features, training_labels, testing_features)\n",
    "end = time.time()\n",
    "print \"Validation accuracy: {} in {} seconds\".format(np.mean(y_p==testing_labels), end-start)"
   ]
  },
  {
   "cell_type": "code",
   "execution_count": null,
   "metadata": {
    "collapsed": true
   },
   "outputs": [],
   "source": []
  },
  {
   "cell_type": "code",
   "execution_count": null,
   "metadata": {
    "collapsed": true
   },
   "outputs": [],
   "source": []
  },
  {
   "cell_type": "code",
   "execution_count": null,
   "metadata": {
    "collapsed": true
   },
   "outputs": [],
   "source": []
  }
 ],
 "metadata": {
  "kernelspec": {
   "display_name": "Python 2",
   "language": "python",
   "name": "python2"
  },
  "language_info": {
   "codemirror_mode": {
    "name": "ipython",
    "version": 2
   },
   "file_extension": ".py",
   "mimetype": "text/x-python",
   "name": "python",
   "nbconvert_exporter": "python",
   "pygments_lexer": "ipython2",
   "version": "2.7.10"
  }
 },
 "nbformat": 4,
 "nbformat_minor": 1
}
